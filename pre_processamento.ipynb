{
 "cells": [
  {
   "cell_type": "markdown",
   "metadata": {},
   "source": [
    "##### Classificação de Gênero Musical Utilizando Machine Learning"
   ]
  },
  {
   "cell_type": "markdown",
   "metadata": {},
   "source": [
    "O desafio deste é criar um modelo de “machine learning” que prediz qual gênero\n",
    "de uma música somente baseado na letra dela.\n",
    "O modelo será construído utilizando alguns conceitos de NLP (Processamento de\n",
    "Linguagem Natural) junto a conceitos estatísticos simples. Os dados serão retirados de\n",
    "uma base do “Kaggle” contendo uma vasta gama de músicas em português e inglês.\n",
    "Para esse desafio recomenda-se fortemente trabalhar com uma só dessas línguas.\n",
    "Extra: É interessante também visualizar quais as palavras mais comuns de cada\n",
    "gênero"
   ]
  },
  {
   "cell_type": "markdown",
   "metadata": {},
   "source": [
    "##### Etapas\n",
    "\n",
    "- Aprender o que são e como aplicar conceitos de NLP\n",
    "    - Tokenização\n",
    "    - Limpeza com expressões regulares\n",
    "    - Remoção de stopwords\n",
    "    - Stemming\n",
    "    - Lemmatization\n",
    "    - Vetorização<br/><br>\n",
    "    \n",
    "- Aprender como funciona e como aplicar o modelo Naive-Bayes e sua forma\n",
    "multinomial para o uso nesse challenge"
   ]
  },
  {
   "cell_type": "markdown",
   "metadata": {},
   "source": [
    "##### Importação dos dados"
   ]
  },
  {
   "cell_type": "code",
   "execution_count": 1,
   "metadata": {},
   "outputs": [],
   "source": [
    "import pandas as pd"
   ]
  },
  {
   "cell_type": "code",
   "execution_count": 2,
   "metadata": {},
   "outputs": [],
   "source": [
    "df_lyrics  = pd.read_csv(\"banco_dados/lyrics-data.csv\")\n",
    "df_artists = pd.read_csv(\"banco_dados/artists-data.csv\")"
   ]
  },
  {
   "cell_type": "code",
   "execution_count": 3,
   "metadata": {},
   "outputs": [
    {
     "name": "stdout",
     "output_type": "stream",
     "text": [
      "Atributos do lyrics_data:     Index(['ALink', 'SName', 'SLink', 'Lyric', 'language'], dtype='object')\n",
      "Atributos do artists_data:    Index(['Artist', 'Genres', 'Songs', 'Popularity', 'Link'], dtype='object')\n",
      "Tamanho do Dataset (Lyrics):  (379931, 5)\n",
      "Tamanho do Dataset (Artists): (4168, 5)\n"
     ]
    }
   ],
   "source": [
    "print(f\"Atributos do lyrics_data:     {df_lyrics.columns}\")\n",
    "print(f\"Atributos do artists_data:    {df_artists.columns}\")\n",
    "print(f\"Tamanho do Dataset (Lyrics):  {df_lyrics.shape}\")\n",
    "print(f\"Tamanho do Dataset (Artists): {df_artists.shape}\")"
   ]
  },
  {
   "cell_type": "markdown",
   "metadata": {},
   "source": [
    "Escolhendo as apenas as colunas importante para os problemas"
   ]
  },
  {
   "cell_type": "code",
   "execution_count": 4,
   "metadata": {},
   "outputs": [],
   "source": [
    "important_columns = ['ALink', 'SName', 'Lyric', 'language']\n",
    "df_lyrics = df_lyrics[important_columns]\n",
    "#display(df_lyrics)\n",
    "\n",
    "important_columns = ['Artist', 'Genres', 'Link']\n",
    "df_artists = df_artists[important_columns]\n",
    "#display(df_artists)"
   ]
  },
  {
   "cell_type": "markdown",
   "metadata": {},
   "source": [
    "Juntando as duas colunas baseado no **ALink** do *df_lyrics* e **Link** do *df_artists*"
   ]
  },
  {
   "cell_type": "code",
   "execution_count": 5,
   "metadata": {},
   "outputs": [],
   "source": [
    "df_processed = pd.merge(df_lyrics, df_artists, left_on='ALink', right_on='Link')\n",
    "df_processed.drop(['ALink', 'Link'], axis=1, inplace=True)"
   ]
  },
  {
   "cell_type": "code",
   "execution_count": 6,
   "metadata": {},
   "outputs": [
    {
     "name": "stdout",
     "output_type": "stream",
     "text": [
      "<class 'pandas.core.frame.DataFrame'>\n",
      "Int64Index: 378988 entries, 0 to 378987\n",
      "Data columns (total 5 columns):\n",
      " #   Column    Non-Null Count   Dtype \n",
      "---  ------    --------------   ----- \n",
      " 0   SName     378985 non-null  object\n",
      " 1   Lyric     378911 non-null  object\n",
      " 2   language  364402 non-null  object\n",
      " 3   Artist    378987 non-null  object\n",
      " 4   Genres    378948 non-null  object\n",
      "dtypes: object(5)\n",
      "memory usage: 17.3+ MB\n"
     ]
    }
   ],
   "source": [
    "df_processed.info()"
   ]
  },
  {
   "cell_type": "markdown",
   "metadata": {},
   "source": [
    "Melhor remover os valores nulos pra uma análise mais precisa"
   ]
  },
  {
   "cell_type": "code",
   "execution_count": 7,
   "metadata": {},
   "outputs": [],
   "source": [
    "df_processed.dropna(inplace=True)"
   ]
  },
  {
   "cell_type": "markdown",
   "metadata": {},
   "source": [
    "Iremos trabalhar para esse caso apenas para casos de linguagem *en*"
   ]
  },
  {
   "cell_type": "code",
   "execution_count": 8,
   "metadata": {},
   "outputs": [],
   "source": [
    "df_processed = df_processed[df_processed['language'] == 'en']"
   ]
  },
  {
   "cell_type": "markdown",
   "metadata": {},
   "source": [
    "Agora é realizar o pre-processamento de texto, alterando as palavras pra minusculos e removendo as stopwords e pontuação"
   ]
  },
  {
   "cell_type": "code",
   "execution_count": 9,
   "metadata": {},
   "outputs": [],
   "source": [
    "from nltk.tokenize import word_tokenize\n",
    "from nltk.corpus import stopwords\n",
    "from nltk.stem import WordNetLemmatizer\n",
    "from tqdm import tqdm\n",
    "\n",
    "lemmatizer = WordNetLemmatizer()\n",
    "\n",
    "def to_lower(lyrics):\n",
    "    return lyrics.lower()\n",
    "\n",
    "def remove_stopwords(lyrics):\n",
    "    tokenized = word_tokenize(lyrics)\n",
    "    stop_words = set(stopwords.words('english'))\n",
    "    filtered_stop = [word for word in tokenized if word not in stop_words]\n",
    "    return \" \".join(filtered_stop)\n",
    "\n",
    "def remove_punctuation(lyrics):\n",
    "    tokenized = word_tokenize(lyrics)\n",
    "    no_punctuation = [word for word in tokenized if word.isalpha()]\n",
    "    return \" \".join(no_punctuation)\n",
    "\n",
    "def word_lemmatizer(lyrics):\n",
    "    tokenized  = word_tokenize(lyrics)\n",
    "    lemmatized = [lemmatizer.lemmatize(word) for word in tokenized]\n",
    "    return \" \".join(lemmatized)"
   ]
  },
  {
   "cell_type": "code",
   "execution_count": 10,
   "metadata": {},
   "outputs": [
    {
     "name": "stderr",
     "output_type": "stream",
     "text": [
      "100%|██████████| 191376/191376 [00:00<00:00, 254440.93it/s]\n",
      "100%|██████████| 191376/191376 [04:40<00:00, 682.70it/s] \n",
      "100%|██████████| 191376/191376 [02:42<00:00, 1176.83it/s]\n",
      "100%|██████████| 191376/191376 [02:50<00:00, 1120.17it/s]\n"
     ]
    }
   ],
   "source": [
    "tqdm.pandas()\n",
    "df_processed['Lyric'] = df_processed['Lyric'] \\\n",
    "                        .progress_apply(to_lower) \\\n",
    "                        .progress_apply(remove_stopwords) \\\n",
    "                        .progress_apply(remove_punctuation) \\\n",
    "                        .progress_apply(word_lemmatizer)"
   ]
  },
  {
   "cell_type": "markdown",
   "metadata": {},
   "source": [
    "Pegar os gêneros fazendo um split dos elementos das colunas criando assim uma lista de listas"
   ]
  },
  {
   "cell_type": "code",
   "execution_count": 11,
   "metadata": {},
   "outputs": [],
   "source": [
    "list_genres = df_processed['Genres'].str.split(';').values\n",
    "genres = [g.strip() for genres in list_genres for g in genres]"
   ]
  },
  {
   "cell_type": "code",
   "execution_count": 12,
   "metadata": {},
   "outputs": [],
   "source": [
    "from collections import Counter\n",
    "result = {k: v for k, v in sorted(Counter(genres).items(), key=lambda item: item[1], reverse=True)}"
   ]
  },
  {
   "cell_type": "code",
   "execution_count": 13,
   "metadata": {},
   "outputs": [
    {
     "data": {
      "image/png": "[encoded data removed]",
      "text/plain": [
       "<Figure size 792x360 with 1 Axes>"
      ]
     },
     "metadata": {
      "needs_background": "light"
     },
     "output_type": "display_data"
    }
   ],
   "source": [
    "import matplotlib.pyplot as plt\n",
    "plt.figure(figsize=(11, 5))\n",
    "\n",
    "names  = list(result.keys())[:10]\n",
    "values = list(result.values())[:10]\n",
    "\n",
    "plt.bar(range(10), values, tick_label=names, color='indigo')\n",
    "\n",
    "plt.xticks(rotation = 45)\n",
    "plt.show()"
   ]
  },
  {
   "cell_type": "code",
   "execution_count": 14,
   "metadata": {},
   "outputs": [
    {
     "data": {
      "text/html": [
       "<div>\n",
       "<style scoped>\n",
       "    .dataframe tbody tr th:only-of-type {\n",
       "        vertical-align: middle;\n",
       "    }\n",
       "\n",
       "    .dataframe tbody tr th {\n",
       "        vertical-align: top;\n",
       "    }\n",
       "\n",
       "    .dataframe thead th {\n",
       "        text-align: right;\n",
       "    }\n",
       "</style>\n",
       "<table border=\"1\" class=\"dataframe\">\n",
       "  <thead>\n",
       "    <tr style=\"text-align: right;\">\n",
       "      <th></th>\n",
       "      <th>SName</th>\n",
       "      <th>Lyric</th>\n",
       "      <th>Artist</th>\n",
       "      <th>Genres</th>\n",
       "    </tr>\n",
       "  </thead>\n",
       "  <tbody>\n",
       "    <tr>\n",
       "      <th>69</th>\n",
       "      <td>Careless Whisper</td>\n",
       "      <td>feel unsure take hand lead dance floor music d...</td>\n",
       "      <td>Ivete Sangalo</td>\n",
       "      <td>Pop; Axé; Romântico</td>\n",
       "    </tr>\n",
       "    <tr>\n",
       "      <th>86</th>\n",
       "      <td>Could You Be Loved / Citação Musical do Rap: S...</td>\n",
       "      <td>let fool ya even try school ya oh got mind go ...</td>\n",
       "      <td>Ivete Sangalo</td>\n",
       "      <td>Pop; Axé; Romântico</td>\n",
       "    </tr>\n",
       "    <tr>\n",
       "      <th>88</th>\n",
       "      <td>Cruisin' (Part. Saulo)</td>\n",
       "      <td>baby let cruise away confused way clear want g...</td>\n",
       "      <td>Ivete Sangalo</td>\n",
       "      <td>Pop; Axé; Romântico</td>\n",
       "    </tr>\n",
       "    <tr>\n",
       "      <th>111</th>\n",
       "      <td>Easy</td>\n",
       "      <td>know sound funny ca stand pain girl leaving to...</td>\n",
       "      <td>Ivete Sangalo</td>\n",
       "      <td>Pop; Axé; Romântico</td>\n",
       "    </tr>\n",
       "    <tr>\n",
       "      <th>140</th>\n",
       "      <td>For Your Babies (The Voice cover)</td>\n",
       "      <td>got look one hoped lad face beaming smile got ...</td>\n",
       "      <td>Ivete Sangalo</td>\n",
       "      <td>Pop; Axé; Romântico</td>\n",
       "    </tr>\n",
       "  </tbody>\n",
       "</table>\n",
       "</div>"
      ],
      "text/plain": [
       "                                                 SName  \\\n",
       "69                                    Careless Whisper   \n",
       "86   Could You Be Loved / Citação Musical do Rap: S...   \n",
       "88                              Cruisin' (Part. Saulo)   \n",
       "111                                               Easy   \n",
       "140                  For Your Babies (The Voice cover)   \n",
       "\n",
       "                                                 Lyric         Artist  \\\n",
       "69   feel unsure take hand lead dance floor music d...  Ivete Sangalo   \n",
       "86   let fool ya even try school ya oh got mind go ...  Ivete Sangalo   \n",
       "88   baby let cruise away confused way clear want g...  Ivete Sangalo   \n",
       "111  know sound funny ca stand pain girl leaving to...  Ivete Sangalo   \n",
       "140  got look one hoped lad face beaming smile got ...  Ivete Sangalo   \n",
       "\n",
       "                  Genres  \n",
       "69   Pop; Axé; Romântico  \n",
       "86   Pop; Axé; Romântico  \n",
       "88   Pop; Axé; Romântico  \n",
       "111  Pop; Axé; Romântico  \n",
       "140  Pop; Axé; Romântico  "
      ]
     },
     "execution_count": 14,
     "metadata": {},
     "output_type": "execute_result"
    }
   ],
   "source": [
    "df_processed.drop(['language'], axis=1, inplace=True)\n",
    "df_processed.head()"
   ]
  },
  {
   "cell_type": "code",
   "execution_count": 15,
   "metadata": {},
   "outputs": [],
   "source": [
    "df_processed.to_csv(\"banco_dados/processed-data.csv\", index=False)"
   ]
  }
 ],
 "metadata": {
  "kernelspec": {
   "display_name": "Python 3 (ipykernel)",
   "language": "python",
   "name": "python3"
  },
  "language_info": {
   "codemirror_mode": {
    "name": "ipython",
    "version": 3
   },
   "file_extension": ".py",
   "mimetype": "text/x-python",
   "name": "python",
   "nbconvert_exporter": "python",
   "pygments_lexer": "ipython3",
   "version": "3.10.1"
  },
  "vscode": {
   "interpreter": {
    "hash": "4081753395bf17cdd39d82e09902f1eaffda625c5f9c4b7bd98d5d2e81520b1b"
   }
  }
 },
 "nbformat": 4,
 "nbformat_minor": 4
}
